{
 "cells": [
  {
   "cell_type": "code",
   "execution_count": 68,
   "id": "9dad0576",
   "metadata": {},
   "outputs": [],
   "source": [
    "import math\n",
    "import random\n",
    "\n",
    "def return_parity_bit(sBits,msg):\n",
    "   parityBit = 0\n",
    "   for bit in sBits:\n",
    "      parityBit += msg[bit]\n",
    "   return parityBit%2"
   ]
  },
  {
   "cell_type": "code",
   "execution_count": 69,
   "id": "cc446f83",
   "metadata": {},
   "outputs": [],
   "source": [
    "msg = [random.randrange(0,2) for i in range(100)]"
   ]
  },
  {
   "cell_type": "code",
   "execution_count": 70,
   "id": "27a75432",
   "metadata": {},
   "outputs": [
    {
     "name": "stdout",
     "output_type": "stream",
     "text": [
      "0\n",
      "1\n",
      "1\n",
      "0\n",
      "1\n",
      "0\n",
      "0\n",
      "1\n",
      "1\n",
      "1\n",
      "-----------------------\n",
      "1\n",
      "1\n",
      "1\n",
      "1\n",
      "0\n",
      "1\n",
      "1\n",
      "1\n",
      "0\n",
      "0\n"
     ]
    }
   ],
   "source": [
    "# msg = int(input(\"Upiši poruku\"))\n",
    "paritybits1 = [s1,s2,s3,s4,s5,s6,s7,s8,s9,s10] = [[j+i*10 for i in range(10)] for j in range(10)]\n",
    "paritybits1values = []\n",
    "for parityBit in paritybits1:\n",
    "   paritybits1values.append(return_parity_bit(parityBit,msg))\n",
    "   print(paritybits1values[-1])\n",
    "print(\"-----------------------\")\n",
    "paritybits2 = [s11,s12,s13,s14,s15,s16,s17,s18,s19,s20] = [[j+i*11 for i in range(9)] for j in range(10)]\n",
    "paritybits2values = []\n",
    "for parityBit in paritybits2:\n",
    "   paritybits2values.append(return_parity_bit(parityBit,msg))\n",
    "   print(paritybits2values[-1])\n",
    "   \n",
    "encodedMsg = msg + paritybits1values + paritybits2values"
   ]
  },
  {
   "cell_type": "code",
   "execution_count": 71,
   "id": "9da6f160",
   "metadata": {},
   "outputs": [
    {
     "name": "stdout",
     "output_type": "stream",
     "text": [
      "[1, 0, 1, 1, 1, 1, 1, 1, 0, 1]\n",
      "[0, 1, 0, 0, 0, 0, 0, 0, 1, 0]\n"
     ]
    }
   ],
   "source": [
    "print(encodedMsg[20:30])\n",
    "encodedMsg[20:30] = map(lambda x: x^1,encodedMsg[20:30])\n",
    "print(encodedMsg[20:30])"
   ]
  },
  {
   "cell_type": "code",
   "execution_count": 72,
   "id": "40c10541",
   "metadata": {},
   "outputs": [
    {
     "name": "stdout",
     "output_type": "stream",
     "text": [
      "1\n",
      "1\n",
      "1\n",
      "1\n",
      "1\n",
      "1\n",
      "1\n",
      "1\n",
      "1\n",
      "1\n"
     ]
    }
   ],
   "source": [
    "for index, paritybit in enumerate(paritybits1):\n",
    "   print((return_parity_bit(paritybit,encodedMsg)+encodedMsg[100+index])%2)"
   ]
  }
 ],
 "metadata": {
  "kernelspec": {
   "display_name": "Python 3",
   "language": "python",
   "name": "python3"
  },
  "language_info": {
   "codemirror_mode": {
    "name": "ipython",
    "version": 3
   },
   "file_extension": ".py",
   "mimetype": "text/x-python",
   "name": "python",
   "nbconvert_exporter": "python",
   "pygments_lexer": "ipython3",
   "version": "3.11.9"
  }
 },
 "nbformat": 4,
 "nbformat_minor": 5
}
